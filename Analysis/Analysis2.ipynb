{
 "cells": [
  {
   "cell_type": "code",
   "execution_count": null,
   "id": "8aeda68e",
   "metadata": {},
   "outputs": [],
   "source": [
    "import pandas as pd\n",
    "import matplotlib.pyplot as plt\n",
    "from functions import heatmap\n",
    "from functions import regression"
   ]
  },
  {
   "cell_type": "code",
   "execution_count": null,
   "id": "19187a94",
   "metadata": {},
   "outputs": [],
   "source": [
    "#\n",
    "files=[\"education_data.csv\",\n",
    "       \"incentives.csv\",\n",
    "       \"cars_by_state.csv\",\n",
    "       \"income_data.csv\",\n",
    "       \"new_by_age.csv\",\n",
    "       \"state_abbreviations.csv\",\n",
    "       \"state_party_counts.csv\",\n",
    "       \"stations.csv\",\n",
    "       \"tax_state.csv\"]\n",
    "dfs={}\n",
    "for file in files:\n",
    "    dfs[file]=pd.read_csv(f\"../Resources/{file}\")"
   ]
  },
  {
   "cell_type": "markdown",
   "id": "daa8d138",
   "metadata": {},
   "source": [
    "# Vehicle type summary"
   ]
  },
  {
   "cell_type": "code",
   "execution_count": null,
   "id": "5b50efaf",
   "metadata": {},
   "outputs": [],
   "source": [
    "summary_df=pd.merge(dfs[\"cars_by_state.csv\"],dfs[\"state_abbreviations.csv\"],how=\"inner\",on=\"State\")\n",
    "summary_df=summary_df[[\"Year\",\n",
    "            \"State\",\n",
    "            \"Abbreviation\",\n",
    "            \"Electric (EV)\",\n",
    "            \"Plug-In Hybrid Electric (PHEV)\",\n",
    "            \"Hybrid Electric (HEV)\",\n",
    "            \"Gasoline\",\n",
    "            \"Diesel\"]]"
   ]
  },
  {
   "cell_type": "code",
   "execution_count": null,
   "id": "5ca480aa",
   "metadata": {},
   "outputs": [],
   "source": [
    "amounts=summary_df[summary_df[\"Year\"]==2021][[\"Electric (EV)\",\"Plug-In Hybrid Electric (PHEV)\",\"Hybrid Electric (HEV)\",\"Gasoline\",\"Diesel\"]].sum()\n",
    "explode=(.3,.3,.3,0,0,)\n",
    "plt.figure(figsize=(6,6))\n",
    "plt.pie(amounts,explode=explode,autopct=\"%1.1f%%\",pctdistance=1.2)\n",
    "plt.legend(amounts.index)\n",
    "plt.title(\"US Vehicle Type Usage 2021\")\n",
    "plt.show()"
   ]
  },
  {
   "cell_type": "code",
   "execution_count": null,
   "id": "102a65a1",
   "metadata": {},
   "outputs": [],
   "source": [
    "summary_df[\"Alternative total\"]=summary_df[\"Electric (EV)\"]+summary_df[\"Plug-In Hybrid Electric (PHEV)\"]+summary_df[\"Hybrid Electric (HEV)\"]\n",
    "summary_df[\"Fuel total\"]=summary_df[\"Gasoline\"]+summary_df[\"Diesel\"]\n",
    "summary_df[\"Total vehicles\"]=summary_df[\"Alternative total\"]+summary_df[\"Fuel total\"]\n",
    "summary_df[\"Alternative Rate(%)\"]=round(summary_df[\"Alternative total\"]*100/summary_df[\"Total vehicles\"],3)\n",
    "reduced_df=summary_df[[\"Year\",\"State\",\"Abbreviation\",\"Alternative total\",\"Fuel total\",\"Total vehicles\",\"Alternative Rate(%)\"]]\n",
    "reduced_df=reduced_df.sort_values(\"Alternative Rate(%)\", ascending=False)\n",
    "reduced_df=reduced_df.reset_index(drop=True)"
   ]
  },
  {
   "cell_type": "code",
   "execution_count": null,
   "id": "0a55cdc9",
   "metadata": {},
   "outputs": [],
   "source": [
    "top_reduced_df=reduced_df[reduced_df[\"Year\"]==2021].sort_values(\"Alternative Rate(%)\", ascending=False)\n",
    "top_reduced_df=top_reduced_df.reset_index(drop=True)\n",
    "top_reduced_df.head()"
   ]
  },
  {
   "cell_type": "code",
   "execution_count": null,
   "id": "4c4e4517",
   "metadata": {},
   "outputs": [],
   "source": [
    "bottom_reduced_df=reduced_df[reduced_df[\"Year\"]==2021].sort_values(\"Alternative Rate(%)\")\n",
    "bottom_reduced_df=bottom_reduced_df.reset_index(drop=True)\n",
    "bottom_reduced_df.head()"
   ]
  },
  {
   "cell_type": "markdown",
   "id": "5ef9417f",
   "metadata": {},
   "source": [
    "# Population analysis"
   ]
  },
  {
   "cell_type": "markdown",
   "id": "38691974",
   "metadata": {},
   "source": [
    "### Education analysis"
   ]
  },
  {
   "cell_type": "code",
   "execution_count": null,
   "id": "44956d8e",
   "metadata": {
    "scrolled": true
   },
   "outputs": [],
   "source": [
    "ed_df=pd.DataFrame({\"State\":dfs[\"education_data.csv\"][\"State\"],\n",
    "                    \"No Education\":dfs[\"education_data.csv\"][\"No education\"],\n",
    "                    \"High School\":dfs[\"education_data.csv\"][\"High School\"]+dfs[\"education_data.csv\"][\"GED or alternative\"],\n",
    "                    \"Grad School\":dfs[\"education_data.csv\"][\"associates\"]+dfs[\"education_data.csv\"][\"Bachelors\"],\n",
    "                    \"Post-grad School\":dfs[\"education_data.csv\"][\"Masters\"]+dfs[\"education_data.csv\"][\"Professional\"]+dfs[\"education_data.csv\"][\"Doctorate\"]\n",
    "                   })\n",
    "education_df=pd.merge(reduced_df[reduced_df[\"Year\"]==2021],ed_df,how=\"inner\",on=\"State\")\n",
    "education_df"
   ]
  },
  {
   "cell_type": "markdown",
   "id": "f450c774",
   "metadata": {},
   "source": [
    "### Age analysis"
   ]
  },
  {
   "cell_type": "markdown",
   "id": "35607216",
   "metadata": {},
   "source": [
    "### Income analysis"
   ]
  },
  {
   "cell_type": "markdown",
   "id": "884105e4",
   "metadata": {},
   "source": [
    "# Gas price analysis"
   ]
  },
  {
   "cell_type": "markdown",
   "id": "eb3310e5",
   "metadata": {},
   "source": [
    "### State Tax"
   ]
  },
  {
   "cell_type": "markdown",
   "id": "482a4b92",
   "metadata": {},
   "source": [
    "### Historical gas prices"
   ]
  },
  {
   "cell_type": "markdown",
   "id": "21027cb4",
   "metadata": {},
   "source": [
    "# Political analysis"
   ]
  },
  {
   "cell_type": "markdown",
   "id": "7d6c94eb",
   "metadata": {},
   "source": [
    "### Political Party Preference"
   ]
  },
  {
   "cell_type": "markdown",
   "id": "ed08fb7a",
   "metadata": {},
   "source": [
    "### Laws and incentives"
   ]
  },
  {
   "cell_type": "markdown",
   "id": "337585df",
   "metadata": {},
   "source": [
    "### Station analysis"
   ]
  },
  {
   "cell_type": "code",
   "execution_count": null,
   "id": "f8883b59",
   "metadata": {},
   "outputs": [],
   "source": [
    "# Create stations by state out of list of stations\n",
    "stationsbystate=dfs[\"stations.csv\"].groupby(\"state\").count()\n",
    "# stations_df=(,reduced_df\n",
    "stationsbystate=stationsbystate[[\"station_name\"]]\n",
    "stationsbystate=stationsbystate.rename(columns={\"station_name\":\"Station count\"})\n",
    "stationsbystate=stationsbystate.reset_index(drop=False)\n"
   ]
  },
  {
   "cell_type": "code",
   "execution_count": null,
   "id": "98788350",
   "metadata": {},
   "outputs": [],
   "source": [
    "stationsbystate=pd.merge(stationsbystate,dfs[\"state_abbreviations.csv\"],how=\"inner\",left_on=\"state\",right_on=\"Abbreviation\")\n",
    "stationsbystate=stationsbystate[[\"State\",\"Abbreviation\",\"Station count\"]]"
   ]
  },
  {
   "cell_type": "code",
   "execution_count": null,
   "id": "bf94cbee",
   "metadata": {},
   "outputs": [],
   "source": [
    "heatmap(stationsbystate,\"State\",\"Station count\")"
   ]
  },
  {
   "cell_type": "code",
   "execution_count": null,
   "id": "3c628556",
   "metadata": {},
   "outputs": [],
   "source": []
  }
 ],
 "metadata": {
  "kernelspec": {
   "display_name": "Python [conda env:PythonData] *",
   "language": "python",
   "name": "conda-env-PythonData-py"
  },
  "language_info": {
   "codemirror_mode": {
    "name": "ipython",
    "version": 3
   },
   "file_extension": ".py",
   "mimetype": "text/x-python",
   "name": "python",
   "nbconvert_exporter": "python",
   "pygments_lexer": "ipython3",
   "version": "3.7.7"
  }
 },
 "nbformat": 4,
 "nbformat_minor": 5
}
